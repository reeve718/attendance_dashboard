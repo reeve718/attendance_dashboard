{
 "cells": [
  {
   "cell_type": "code",
   "execution_count": 1,
   "metadata": {},
   "outputs": [],
   "source": [
    "import requests\n",
    "import pandas as pd\n",
    "import re\n",
    "from datetime import datetime\n",
    "from dateutil.relativedelta import relativedelta\n",
    "\n",
    "prenset = \"出席\"\n",
    "absent = \"缺席\"\n",
    "leave = \"請假\"\n",
    "url = \"https://script.googleusercontent.com/macros/echo?user_content_key=CS1xGtawxafbsz_VXLceDZ8YhZJ3WLRGo3cTurMdyLFpRky5qzeXoqZBrYuJ0ElreSkNapo1i9TRXgBoQpou4xhHPHjfNUj4m5_BxDlH2jW0nuo2oDemN9CCS2h10ox_1xSncGQajx_ryfhECjZEnNGpsruz596piGbFJMaeWeZjFnhN0a9d4HwmOCyefi3ex5PPcpNsPlxGCUpGq7rwIA3gVkC6Pkbl8Md7CuyY-jH4-8QW02051A&lib=McNoStEX3P6w1EymfWUjOXqNKe58B53cM\""
   ]
  },
  {
   "cell_type": "code",
   "execution_count": 2,
   "metadata": {},
   "outputs": [],
   "source": [
    "def getData(url: str):\n",
    "    try:\n",
    "        response =  requests.get(url)\n",
    "        response.raise_for_status()\n",
    "        return response\n",
    "    except requests.RequestException as e:\n",
    "        print(f\"An error occurred: {e}\")\n",
    "    except Exception as e:\n",
    "        print(f\"Unexpected error occurred: {e}\")\n",
    "    return None"
   ]
  },
  {
   "cell_type": "code",
   "execution_count": 3,
   "metadata": {},
   "outputs": [],
   "source": [
    "def getDf_from_google_sheet_json(resp_json):\n",
    "    df = pd.DataFrame(resp_json['data'][1:], columns=resp_json['data'][0])\n",
    "    strings = df.columns\n",
    "    pattern = r\"\\[(.*?)\\]\"\n",
    "    result = []\n",
    "    for string in strings:\n",
    "        matches = re.findall(pattern, string)\n",
    "        result.extend(matches)\n",
    "    df.columns = list(df.columns[:2]) + result\n",
    "    df['date'] = pd.to_datetime(df['日期']).dt.strftime('%Y-%m-%d')\n",
    "    cols = df.columns.tolist()[2:]\n",
    "    cols = [cols[-1]] + cols[:-1]\n",
    "    output_df = df[cols].copy()\n",
    "    return output_df"
   ]
  },
  {
   "cell_type": "code",
   "execution_count": 4,
   "metadata": {},
   "outputs": [],
   "source": [
    "def getDf_present_rate(df, prenset, absent, leave):\n",
    "    result = pd.DataFrame()\n",
    "    for column in df.columns[2:]:\n",
    "        present_count = df[column].value_counts().get(prenset, 0)\n",
    "        absent_count = df[column].value_counts().get(absent, 0)\n",
    "        leave_count = df[column].value_counts().get(leave, 0)\n",
    "        total_count = present_count + absent_count + leave_count\n",
    "        present_rate = round((present_count / total_count * 100),2) if total_count > 0 else 0\n",
    "        result.loc[column, 'Present Count'] = present_count\n",
    "        result.loc[column, 'Absent Count'] = absent_count\n",
    "        result.loc[column, 'Leave Count'] = leave_count\n",
    "        result.loc[column, 'Present Rate (%)'] = present_rate\n",
    "        result = result.sort_index()\n",
    "    return result"
   ]
  },
  {
   "cell_type": "code",
   "execution_count": 5,
   "metadata": {},
   "outputs": [],
   "source": [
    "def filter_last_x_months(df, x):\n",
    "    if x == 0:\n",
    "        return df\n",
    "    today = datetime.today()\n",
    "    x_months_ago = today - relativedelta(months=x)\n",
    "    temp_df = df.copy()\n",
    "    temp_df['date'] = pd.to_datetime(temp_df['date'])\n",
    "    return df[temp_df['date'] >= x_months_ago]"
   ]
  },
  {
   "cell_type": "code",
   "execution_count": 6,
   "metadata": {},
   "outputs": [],
   "source": [
    "resp = getData(url)\n",
    "df = None\n",
    "if resp is not None:\n",
    "    df = getDf_from_google_sheet_json(resp.json())\n"
   ]
  },
  {
   "cell_type": "code",
   "execution_count": 7,
   "metadata": {},
   "outputs": [
    {
     "data": {
      "text/html": [
       "<div>\n",
       "<style scoped>\n",
       "    .dataframe tbody tr th:only-of-type {\n",
       "        vertical-align: middle;\n",
       "    }\n",
       "\n",
       "    .dataframe tbody tr th {\n",
       "        vertical-align: top;\n",
       "    }\n",
       "\n",
       "    .dataframe thead th {\n",
       "        text-align: right;\n",
       "    }\n",
       "</style>\n",
       "<table border=\"1\" class=\"dataframe\">\n",
       "  <thead>\n",
       "    <tr style=\"text-align: right;\">\n",
       "      <th></th>\n",
       "      <th>Present Count</th>\n",
       "      <th>Absent Count</th>\n",
       "      <th>Leave Count</th>\n",
       "      <th>Present Rate (%)</th>\n",
       "    </tr>\n",
       "  </thead>\n",
       "  <tbody>\n",
       "    <tr>\n",
       "      <th>Caitlyn</th>\n",
       "      <td>0.0</td>\n",
       "      <td>0.0</td>\n",
       "      <td>0.0</td>\n",
       "      <td>0.0</td>\n",
       "    </tr>\n",
       "    <tr>\n",
       "      <th>Chautung</th>\n",
       "      <td>0.0</td>\n",
       "      <td>0.0</td>\n",
       "      <td>0.0</td>\n",
       "      <td>0.0</td>\n",
       "    </tr>\n",
       "    <tr>\n",
       "      <th>Chuilam</th>\n",
       "      <td>0.0</td>\n",
       "      <td>0.0</td>\n",
       "      <td>0.0</td>\n",
       "      <td>0.0</td>\n",
       "    </tr>\n",
       "    <tr>\n",
       "      <th>Heiting</th>\n",
       "      <td>0.0</td>\n",
       "      <td>0.0</td>\n",
       "      <td>0.0</td>\n",
       "      <td>0.0</td>\n",
       "    </tr>\n",
       "    <tr>\n",
       "      <th>SzeKi</th>\n",
       "      <td>0.0</td>\n",
       "      <td>0.0</td>\n",
       "      <td>0.0</td>\n",
       "      <td>0.0</td>\n",
       "    </tr>\n",
       "    <tr>\n",
       "      <th>Yannis</th>\n",
       "      <td>0.0</td>\n",
       "      <td>0.0</td>\n",
       "      <td>0.0</td>\n",
       "      <td>0.0</td>\n",
       "    </tr>\n",
       "    <tr>\n",
       "      <th>Yau</th>\n",
       "      <td>0.0</td>\n",
       "      <td>0.0</td>\n",
       "      <td>0.0</td>\n",
       "      <td>0.0</td>\n",
       "    </tr>\n",
       "    <tr>\n",
       "      <th>Yoyo</th>\n",
       "      <td>0.0</td>\n",
       "      <td>0.0</td>\n",
       "      <td>0.0</td>\n",
       "      <td>0.0</td>\n",
       "    </tr>\n",
       "  </tbody>\n",
       "</table>\n",
       "</div>"
      ],
      "text/plain": [
       "          Present Count  Absent Count  Leave Count  Present Rate (%)\n",
       "Caitlyn             0.0           0.0          0.0               0.0\n",
       "Chautung            0.0           0.0          0.0               0.0\n",
       "Chuilam             0.0           0.0          0.0               0.0\n",
       "Heiting             0.0           0.0          0.0               0.0\n",
       "SzeKi               0.0           0.0          0.0               0.0\n",
       "Yannis              0.0           0.0          0.0               0.0\n",
       "Yau                 0.0           0.0          0.0               0.0\n",
       "Yoyo                0.0           0.0          0.0               0.0"
      ]
     },
     "execution_count": 7,
     "metadata": {},
     "output_type": "execute_result"
    }
   ],
   "source": [
    "filtered_df = filter_last_x_months(df,0)\n",
    "result_df = getDf_present_rate(filtered_df, prenset, absent, leave)\n",
    "result_df"
   ]
  },
  {
   "cell_type": "code",
   "execution_count": 22,
   "metadata": {},
   "outputs": [],
   "source": [
    "formated_df = result_df.style.format(\"{:.2f}\".format)"
   ]
  },
  {
   "cell_type": "code",
   "execution_count": 23,
   "metadata": {},
   "outputs": [
    {
     "data": {
      "text/html": [
       "<style type=\"text/css\">\n",
       "</style>\n",
       "<table id=\"T_b2b35\">\n",
       "  <thead>\n",
       "    <tr>\n",
       "      <th class=\"blank level0\" >&nbsp;</th>\n",
       "      <th id=\"T_b2b35_level0_col0\" class=\"col_heading level0 col0\" >Present Count</th>\n",
       "      <th id=\"T_b2b35_level0_col1\" class=\"col_heading level0 col1\" >Absent Count</th>\n",
       "      <th id=\"T_b2b35_level0_col2\" class=\"col_heading level0 col2\" >Leave Count</th>\n",
       "      <th id=\"T_b2b35_level0_col3\" class=\"col_heading level0 col3\" >Present Rate (%)</th>\n",
       "    </tr>\n",
       "  </thead>\n",
       "  <tbody>\n",
       "    <tr>\n",
       "      <th id=\"T_b2b35_level0_row0\" class=\"row_heading level0 row0\" >Caitlyn</th>\n",
       "      <td id=\"T_b2b35_row0_col0\" class=\"data row0 col0\" >8.00</td>\n",
       "      <td id=\"T_b2b35_row0_col1\" class=\"data row0 col1\" >0.00</td>\n",
       "      <td id=\"T_b2b35_row0_col2\" class=\"data row0 col2\" >0.00</td>\n",
       "      <td id=\"T_b2b35_row0_col3\" class=\"data row0 col3\" >100.00</td>\n",
       "    </tr>\n",
       "    <tr>\n",
       "      <th id=\"T_b2b35_level0_row1\" class=\"row_heading level0 row1\" >Chautung</th>\n",
       "      <td id=\"T_b2b35_row1_col0\" class=\"data row1 col0\" >8.00</td>\n",
       "      <td id=\"T_b2b35_row1_col1\" class=\"data row1 col1\" >0.00</td>\n",
       "      <td id=\"T_b2b35_row1_col2\" class=\"data row1 col2\" >0.00</td>\n",
       "      <td id=\"T_b2b35_row1_col3\" class=\"data row1 col3\" >100.00</td>\n",
       "    </tr>\n",
       "    <tr>\n",
       "      <th id=\"T_b2b35_level0_row2\" class=\"row_heading level0 row2\" >Chuilam</th>\n",
       "      <td id=\"T_b2b35_row2_col0\" class=\"data row2 col0\" >2.00</td>\n",
       "      <td id=\"T_b2b35_row2_col1\" class=\"data row2 col1\" >4.00</td>\n",
       "      <td id=\"T_b2b35_row2_col2\" class=\"data row2 col2\" >2.00</td>\n",
       "      <td id=\"T_b2b35_row2_col3\" class=\"data row2 col3\" >25.00</td>\n",
       "    </tr>\n",
       "    <tr>\n",
       "      <th id=\"T_b2b35_level0_row3\" class=\"row_heading level0 row3\" >Heiting</th>\n",
       "      <td id=\"T_b2b35_row3_col0\" class=\"data row3 col0\" >4.00</td>\n",
       "      <td id=\"T_b2b35_row3_col1\" class=\"data row3 col1\" >4.00</td>\n",
       "      <td id=\"T_b2b35_row3_col2\" class=\"data row3 col2\" >0.00</td>\n",
       "      <td id=\"T_b2b35_row3_col3\" class=\"data row3 col3\" >50.00</td>\n",
       "    </tr>\n",
       "    <tr>\n",
       "      <th id=\"T_b2b35_level0_row4\" class=\"row_heading level0 row4\" >SzeKi</th>\n",
       "      <td id=\"T_b2b35_row4_col0\" class=\"data row4 col0\" >6.00</td>\n",
       "      <td id=\"T_b2b35_row4_col1\" class=\"data row4 col1\" >0.00</td>\n",
       "      <td id=\"T_b2b35_row4_col2\" class=\"data row4 col2\" >1.00</td>\n",
       "      <td id=\"T_b2b35_row4_col3\" class=\"data row4 col3\" >85.71</td>\n",
       "    </tr>\n",
       "    <tr>\n",
       "      <th id=\"T_b2b35_level0_row5\" class=\"row_heading level0 row5\" >Yannis</th>\n",
       "      <td id=\"T_b2b35_row5_col0\" class=\"data row5 col0\" >8.00</td>\n",
       "      <td id=\"T_b2b35_row5_col1\" class=\"data row5 col1\" >0.00</td>\n",
       "      <td id=\"T_b2b35_row5_col2\" class=\"data row5 col2\" >0.00</td>\n",
       "      <td id=\"T_b2b35_row5_col3\" class=\"data row5 col3\" >100.00</td>\n",
       "    </tr>\n",
       "    <tr>\n",
       "      <th id=\"T_b2b35_level0_row6\" class=\"row_heading level0 row6\" >Yau</th>\n",
       "      <td id=\"T_b2b35_row6_col0\" class=\"data row6 col0\" >5.00</td>\n",
       "      <td id=\"T_b2b35_row6_col1\" class=\"data row6 col1\" >1.00</td>\n",
       "      <td id=\"T_b2b35_row6_col2\" class=\"data row6 col2\" >2.00</td>\n",
       "      <td id=\"T_b2b35_row6_col3\" class=\"data row6 col3\" >62.50</td>\n",
       "    </tr>\n",
       "    <tr>\n",
       "      <th id=\"T_b2b35_level0_row7\" class=\"row_heading level0 row7\" >Yoyo</th>\n",
       "      <td id=\"T_b2b35_row7_col0\" class=\"data row7 col0\" >6.00</td>\n",
       "      <td id=\"T_b2b35_row7_col1\" class=\"data row7 col1\" >1.00</td>\n",
       "      <td id=\"T_b2b35_row7_col2\" class=\"data row7 col2\" >1.00</td>\n",
       "      <td id=\"T_b2b35_row7_col3\" class=\"data row7 col3\" >75.00</td>\n",
       "    </tr>\n",
       "  </tbody>\n",
       "</table>\n"
      ],
      "text/plain": [
       "<pandas.io.formats.style.Styler at 0x2164bea8fd0>"
      ]
     },
     "execution_count": 23,
     "metadata": {},
     "output_type": "execute_result"
    }
   ],
   "source": [
    "formated_df"
   ]
  },
  {
   "cell_type": "code",
   "execution_count": 24,
   "metadata": {},
   "outputs": [
    {
     "name": "stdout",
     "output_type": "stream",
     "text": [
      "      Name  Age  Score\n",
      "0    Alice   25     85\n",
      "1      Bob   30     90\n",
      "2  Charlie   35     88\n"
     ]
    }
   ],
   "source": [
    "import pandas as pd\n",
    "\n",
    "# Create a sample DataFrame\n",
    "data = {\n",
    "    \"Name\": [\"Alice\", \"Bob\", \"Charlie\"],\n",
    "    \"Age\": [25, 30, 35],\n",
    "    \"Score\": [85, 90, 88]\n",
    "}\n",
    "df = pd.DataFrame(data)\n",
    "\n",
    "# Sort the DataFrame by a specific column name\n",
    "column_name = \"Name\"  # Specify the column name you want to sort by\n",
    "sorted_df = df.sort_values(by=column_name)\n",
    "\n",
    "print(sorted_df)"
   ]
  },
  {
   "cell_type": "code",
   "execution_count": null,
   "metadata": {},
   "outputs": [
    {
     "name": "stdout",
     "output_type": "stream",
     "text": [
      "   Age     Name  Score\n",
      "0   25    Alice     85\n",
      "1   30      Bob     90\n",
      "2   35  Charlie     88\n"
     ]
    }
   ],
   "source": [
    "import pandas as pd\n",
    "\n",
    "# Create a sample DataFrame\n",
    "data = {\n",
    "    \"Name\": [\"Alice\", \"Bob\", \"Charlie\"],\n",
    "    \"Age\": [25, 30, 35],\n",
    "    \"Score\": [85, 90, 88]\n",
    "}\n",
    "df = pd.DataFrame(data)\n",
    "\n",
    "# Sort the DataFrame columns alphabetically by column name\n",
    "df = df.reindex(sorted(df.columns), axis=1)\n",
    "\n",
    "print(df)"
   ]
  },
  {
   "cell_type": "code",
   "execution_count": 33,
   "metadata": {},
   "outputs": [
    {
     "name": "stdout",
     "output_type": "stream",
     "text": [
      "[3, 6, 9, 12, 0]\n"
     ]
    }
   ],
   "source": [
    "x_months = [i for i in range(0,13,3)]\n",
    "x_months =  x_months[1:] + [x_months[0]]\n",
    "print(x_months)"
   ]
  }
 ],
 "metadata": {
  "kernelspec": {
   "display_name": "Python 3",
   "language": "python",
   "name": "python3"
  },
  "language_info": {
   "codemirror_mode": {
    "name": "ipython",
    "version": 3
   },
   "file_extension": ".py",
   "mimetype": "text/x-python",
   "name": "python",
   "nbconvert_exporter": "python",
   "pygments_lexer": "ipython3",
   "version": "3.10.11"
  }
 },
 "nbformat": 4,
 "nbformat_minor": 2
}
