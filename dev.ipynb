{
 "cells": [
  {
   "cell_type": "code",
   "execution_count": 1,
   "metadata": {},
   "outputs": [],
   "source": [
    "import requests\n",
    "import pandas as pd\n",
    "import re\n",
    "from datetime import datetime\n",
    "from dateutil.relativedelta import relativedelta\n",
    "\n",
    "prenset = \"出席\"\n",
    "absent = \"缺席\"\n",
    "leave = \"請假\"\n",
    "url = \"https://script.googleusercontent.com/macros/echo?user_content_key=CS1xGtawxafbsz_VXLceDZ8YhZJ3WLRGo3cTurMdyLFpRky5qzeXoqZBrYuJ0ElreSkNapo1i9TRXgBoQpou4xhHPHjfNUj4m5_BxDlH2jW0nuo2oDemN9CCS2h10ox_1xSncGQajx_ryfhECjZEnNGpsruz596piGbFJMaeWeZjFnhN0a9d4HwmOCyefi3ex5PPcpNsPlxGCUpGq7rwIA3gVkC6Pkbl8Md7CuyY-jH4-8QW02051A&lib=McNoStEX3P6w1EymfWUjOXqNKe58B53cM\""
   ]
  },
  {
   "cell_type": "code",
   "execution_count": 2,
   "metadata": {},
   "outputs": [],
   "source": [
    "def getData(url: str):\n",
    "    try:\n",
    "        response =  requests.get(url)\n",
    "        response.raise_for_status()\n",
    "        return response\n",
    "    except requests.RequestException as e:\n",
    "        print(f\"An error occurred: {e}\")\n",
    "    except Exception as e:\n",
    "        print(f\"Unexpected error occurred: {e}\")\n",
    "    return None"
   ]
  },
  {
   "cell_type": "code",
   "execution_count": 3,
   "metadata": {},
   "outputs": [],
   "source": [
    "def getDf_from_google_sheet_json(resp_json):\n",
    "    df = pd.DataFrame(resp_json['data'][1:], columns=resp_json['data'][0])\n",
    "    strings = df.columns\n",
    "    pattern = r\"\\[(.*?)\\]\"\n",
    "    result = []\n",
    "    for string in strings:\n",
    "        matches = re.findall(pattern, string)\n",
    "        result.extend(matches)\n",
    "    df.columns = list(df.columns[:2]) + result\n",
    "    df['date'] = pd.to_datetime(df['日期']).dt.strftime('%Y-%m-%d')\n",
    "    cols = df.columns.tolist()[2:]\n",
    "    cols = [cols[-1]] + cols[:-1]\n",
    "    output_df = df[cols].copy()\n",
    "    return output_df"
   ]
  },
  {
   "cell_type": "code",
   "execution_count": 4,
   "metadata": {},
   "outputs": [],
   "source": [
    "def getDf_present_rate(df, prenset, absent, leave):\n",
    "    result = pd.DataFrame()\n",
    "    for column in df.columns[2:]:\n",
    "        present_count = df[column].value_counts().get(prenset, 0)\n",
    "        absent_count = df[column].value_counts().get(absent, 0)\n",
    "        leave_count = df[column].value_counts().get(leave, 0)\n",
    "        total_count = present_count + absent_count + leave_count\n",
    "        present_rate = round((present_count / total_count * 100),2) if total_count > 0 else 0\n",
    "        result.loc[column, 'Present Count'] = present_count\n",
    "        result.loc[column, 'Absent Count'] = absent_count\n",
    "        result.loc[column, 'Leave Count'] = leave_count\n",
    "        result.loc[column, 'Present Rate (%)'] = present_rate\n",
    "    return result"
   ]
  },
  {
   "cell_type": "code",
   "execution_count": 5,
   "metadata": {},
   "outputs": [],
   "source": [
    "def filter_last_x_months(df, x):\n",
    "    today = datetime.today()\n",
    "    x_months_ago = today - relativedelta(months=x)\n",
    "    temp_df = df.copy()\n",
    "    temp_df['date'] = pd.to_datetime(temp_df['date'])\n",
    "    return df[temp_df['date'] >= x_months_ago]"
   ]
  },
  {
   "cell_type": "code",
   "execution_count": 6,
   "metadata": {},
   "outputs": [],
   "source": [
    "resp = getData(url)\n",
    "df = None\n",
    "if resp is not None:\n",
    "    df = getDf_from_google_sheet_json(resp.json())\n"
   ]
  },
  {
   "cell_type": "code",
   "execution_count": 7,
   "metadata": {},
   "outputs": [
    {
     "data": {
      "text/html": [
       "<div>\n",
       "<style scoped>\n",
       "    .dataframe tbody tr th:only-of-type {\n",
       "        vertical-align: middle;\n",
       "    }\n",
       "\n",
       "    .dataframe tbody tr th {\n",
       "        vertical-align: top;\n",
       "    }\n",
       "\n",
       "    .dataframe thead th {\n",
       "        text-align: right;\n",
       "    }\n",
       "</style>\n",
       "<table border=\"1\" class=\"dataframe\">\n",
       "  <thead>\n",
       "    <tr style=\"text-align: right;\">\n",
       "      <th></th>\n",
       "      <th>Present Count</th>\n",
       "      <th>Absent Count</th>\n",
       "      <th>Leave Count</th>\n",
       "      <th>Present Rate (%)</th>\n",
       "    </tr>\n",
       "  </thead>\n",
       "  <tbody>\n",
       "    <tr>\n",
       "      <th>SzeKi</th>\n",
       "      <td>6.0</td>\n",
       "      <td>0.0</td>\n",
       "      <td>1.0</td>\n",
       "      <td>85.71</td>\n",
       "    </tr>\n",
       "    <tr>\n",
       "      <th>Caitlyn</th>\n",
       "      <td>8.0</td>\n",
       "      <td>0.0</td>\n",
       "      <td>0.0</td>\n",
       "      <td>100.00</td>\n",
       "    </tr>\n",
       "    <tr>\n",
       "      <th>Yau</th>\n",
       "      <td>5.0</td>\n",
       "      <td>1.0</td>\n",
       "      <td>2.0</td>\n",
       "      <td>62.50</td>\n",
       "    </tr>\n",
       "    <tr>\n",
       "      <th>Yannis</th>\n",
       "      <td>8.0</td>\n",
       "      <td>0.0</td>\n",
       "      <td>0.0</td>\n",
       "      <td>100.00</td>\n",
       "    </tr>\n",
       "    <tr>\n",
       "      <th>Yoyo</th>\n",
       "      <td>6.0</td>\n",
       "      <td>1.0</td>\n",
       "      <td>1.0</td>\n",
       "      <td>75.00</td>\n",
       "    </tr>\n",
       "    <tr>\n",
       "      <th>Heiting</th>\n",
       "      <td>4.0</td>\n",
       "      <td>4.0</td>\n",
       "      <td>0.0</td>\n",
       "      <td>50.00</td>\n",
       "    </tr>\n",
       "    <tr>\n",
       "      <th>Chuilam</th>\n",
       "      <td>2.0</td>\n",
       "      <td>4.0</td>\n",
       "      <td>2.0</td>\n",
       "      <td>25.00</td>\n",
       "    </tr>\n",
       "    <tr>\n",
       "      <th>Chautung</th>\n",
       "      <td>8.0</td>\n",
       "      <td>0.0</td>\n",
       "      <td>0.0</td>\n",
       "      <td>100.00</td>\n",
       "    </tr>\n",
       "  </tbody>\n",
       "</table>\n",
       "</div>"
      ],
      "text/plain": [
       "          Present Count  Absent Count  Leave Count  Present Rate (%)\n",
       "SzeKi               6.0           0.0          1.0             85.71\n",
       "Caitlyn             8.0           0.0          0.0            100.00\n",
       "Yau                 5.0           1.0          2.0             62.50\n",
       "Yannis              8.0           0.0          0.0            100.00\n",
       "Yoyo                6.0           1.0          1.0             75.00\n",
       "Heiting             4.0           4.0          0.0             50.00\n",
       "Chuilam             2.0           4.0          2.0             25.00\n",
       "Chautung            8.0           0.0          0.0            100.00"
      ]
     },
     "execution_count": 7,
     "metadata": {},
     "output_type": "execute_result"
    }
   ],
   "source": [
    "filtered_df = filter_last_x_months(df,7)\n",
    "result_df = getDf_present_rate(filtered_df, prenset, absent, leave)\n",
    "result_df"
   ]
  }
 ],
 "metadata": {
  "kernelspec": {
   "display_name": "Python 3",
   "language": "python",
   "name": "python3"
  },
  "language_info": {
   "codemirror_mode": {
    "name": "ipython",
    "version": 3
   },
   "file_extension": ".py",
   "mimetype": "text/x-python",
   "name": "python",
   "nbconvert_exporter": "python",
   "pygments_lexer": "ipython3",
   "version": "3.11.9"
  }
 },
 "nbformat": 4,
 "nbformat_minor": 2
}
