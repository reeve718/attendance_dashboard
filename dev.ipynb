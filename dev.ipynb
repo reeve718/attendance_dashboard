{
 "cells": [
  {
   "cell_type": "code",
   "execution_count": 2,
   "metadata": {},
   "outputs": [],
   "source": [
    "import requests\n",
    "import pandas as pd\n",
    "import re"
   ]
  },
  {
   "cell_type": "code",
   "execution_count": 3,
   "metadata": {},
   "outputs": [],
   "source": [
    "url = \"https://script.googleusercontent.com/macros/echo?user_content_key=CS1xGtawxafbsz_VXLceDZ8YhZJ3WLRGo3cTurMdyLFpRky5qzeXoqZBrYuJ0ElreSkNapo1i9TRXgBoQpou4xhHPHjfNUj4m5_BxDlH2jW0nuo2oDemN9CCS2h10ox_1xSncGQajx_ryfhECjZEnNGpsruz596piGbFJMaeWeZjFnhN0a9d4HwmOCyefi3ex5PPcpNsPlxGCUpGq7rwIA3gVkC6Pkbl8Md7CuyY-jH4-8QW02051A&lib=McNoStEX3P6w1EymfWUjOXqNKe58B53cM\"\n",
    "resp = requests.get(url)\n",
    "resp_json = resp.json()"
   ]
  },
  {
   "cell_type": "code",
   "execution_count": 4,
   "metadata": {},
   "outputs": [],
   "source": [
    "df = pd.DataFrame(resp_json['data'][1:], columns=resp_json['data'][0])"
   ]
  },
  {
   "cell_type": "code",
   "execution_count": 11,
   "metadata": {},
   "outputs": [
    {
     "name": "stdout",
     "output_type": "stream",
     "text": [
      "['Su', 'SzeKi', 'Caitlyn', 'Yau', 'Yannis', 'Yoyo', 'Heiting', 'Chuilam', 'Chautung']\n"
     ]
    }
   ],
   "source": [
    "strings = df.columns\n",
    "pattern = r\"\\[(.*?)\\]\"\n",
    "result = []\n",
    "for string in strings:\n",
    "    matches = re.findall(pattern, string)\n",
    "    result.extend(matches)\n",
    "\n",
    "# Print the extracted substrings\n",
    "print(result)"
   ]
  },
  {
   "cell_type": "code",
   "execution_count": 16,
   "metadata": {},
   "outputs": [],
   "source": [
    "new_columns = list(df.columns[:2]) + result\n",
    "df.columns = new_columns"
   ]
  },
  {
   "cell_type": "code",
   "execution_count": 11,
   "metadata": {},
   "outputs": [],
   "source": [
    "df.fillna(value = 0, inplace=True)"
   ]
  },
  {
   "cell_type": "code",
   "execution_count": 14,
   "metadata": {},
   "outputs": [
    {
     "name": "stdout",
     "output_type": "stream",
     "text": [
      "       Present Count  Absent Count  Present Rate (%)\n",
      "John             2.0           1.0         66.666667\n",
      "Mary             2.0           2.0         50.000000\n",
      "Alice            2.0           1.0         66.666667\n",
      "Bob              1.0           3.0         25.000000\n"
     ]
    }
   ],
   "source": [
    "# Sample DataFrame with null values\n",
    "data = {\n",
    "    'Date': ['2022-02-12', '2022-02-13', '2022-02-14', '2022-02-15'],\n",
    "    'John': ['present', 'absent', None, 'present'],\n",
    "    'Mary': ['absent', 'present', 'present', 'absent'],\n",
    "    'Alice': ['absent', None, 'present', 'present'],\n",
    "    'Bob': ['present', 'absent', 'absent', 'absent']\n",
    "}\n",
    "\n",
    "df = pd.DataFrame(data)\n",
    "\n",
    "# Calculate present rates, present count, and absent count for all names\n",
    "result = pd.DataFrame()\n",
    "for column in df.columns[1:]:\n",
    "    present_count = df[column].value_counts().get('present', 0)\n",
    "    absent_count = df[column].value_counts().get('absent', 0)\n",
    "    null_count = df[column].isnull().sum()\n",
    "    total_count = present_count + absent_count\n",
    "    present_rate = present_count / total_count * 100\n",
    "    result.loc[column, 'Present Count'] = present_count\n",
    "    result.loc[column, 'Absent Count'] = absent_count\n",
    "    #result.loc[column, 'Null Count'] = null_count\n",
    "    result.loc[column, 'Present Rate (%)'] = present_rate\n",
    "\n",
    "# Print the result DataFrame\n",
    "print(result)"
   ]
  },
  {
   "cell_type": "code",
   "execution_count": 15,
   "metadata": {},
   "outputs": [
    {
     "data": {
      "text/html": [
       "<div>\n",
       "<style scoped>\n",
       "    .dataframe tbody tr th:only-of-type {\n",
       "        vertical-align: middle;\n",
       "    }\n",
       "\n",
       "    .dataframe tbody tr th {\n",
       "        vertical-align: top;\n",
       "    }\n",
       "\n",
       "    .dataframe thead th {\n",
       "        text-align: right;\n",
       "    }\n",
       "</style>\n",
       "<table border=\"1\" class=\"dataframe\">\n",
       "  <thead>\n",
       "    <tr style=\"text-align: right;\">\n",
       "      <th></th>\n",
       "      <th>Date</th>\n",
       "      <th>John</th>\n",
       "      <th>Mary</th>\n",
       "      <th>Alice</th>\n",
       "      <th>Bob</th>\n",
       "    </tr>\n",
       "  </thead>\n",
       "  <tbody>\n",
       "    <tr>\n",
       "      <th>0</th>\n",
       "      <td>2022-02-12</td>\n",
       "      <td>present</td>\n",
       "      <td>absent</td>\n",
       "      <td>absent</td>\n",
       "      <td>present</td>\n",
       "    </tr>\n",
       "    <tr>\n",
       "      <th>1</th>\n",
       "      <td>2022-02-13</td>\n",
       "      <td>absent</td>\n",
       "      <td>present</td>\n",
       "      <td>None</td>\n",
       "      <td>absent</td>\n",
       "    </tr>\n",
       "    <tr>\n",
       "      <th>2</th>\n",
       "      <td>2022-02-14</td>\n",
       "      <td>None</td>\n",
       "      <td>present</td>\n",
       "      <td>present</td>\n",
       "      <td>absent</td>\n",
       "    </tr>\n",
       "    <tr>\n",
       "      <th>3</th>\n",
       "      <td>2022-02-15</td>\n",
       "      <td>present</td>\n",
       "      <td>absent</td>\n",
       "      <td>present</td>\n",
       "      <td>absent</td>\n",
       "    </tr>\n",
       "  </tbody>\n",
       "</table>\n",
       "</div>"
      ],
      "text/plain": [
       "         Date     John     Mary    Alice      Bob\n",
       "0  2022-02-12  present   absent   absent  present\n",
       "1  2022-02-13   absent  present     None   absent\n",
       "2  2022-02-14     None  present  present   absent\n",
       "3  2022-02-15  present   absent  present   absent"
      ]
     },
     "execution_count": 15,
     "metadata": {},
     "output_type": "execute_result"
    }
   ],
   "source": [
    "df"
   ]
  }
 ],
 "metadata": {
  "kernelspec": {
   "display_name": "Python 3",
   "language": "python",
   "name": "python3"
  },
  "language_info": {
   "codemirror_mode": {
    "name": "ipython",
    "version": 3
   },
   "file_extension": ".py",
   "mimetype": "text/x-python",
   "name": "python",
   "nbconvert_exporter": "python",
   "pygments_lexer": "ipython3",
   "version": "3.11.9"
  }
 },
 "nbformat": 4,
 "nbformat_minor": 2
}
